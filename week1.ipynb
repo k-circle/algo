{
 "cells": [
  {
   "cell_type": "code",
   "execution_count": null,
   "metadata": {},
   "outputs": [],
   "source": [
    "# simple search\n",
    "arry = [i for i in range(20)]\n",
    "target = 17\n",
    "for i in arry:\n",
    "    print(\"%d steps\" % i)\n",
    "    if i == target:\n",
    "        print(\"Found %d\" % i)\n",
    "        break"
   ]
  },
  {
   "cell_type": "code",
   "execution_count": null,
   "metadata": {},
   "outputs": [],
   "source": [
    "# binary search\n",
    "arry = [i for i in range(20)]\n",
    "target = 17\n",
    "l = 0  # left pointer\n",
    "r = len(arry) - 1  # right pointer\n",
    "step = 0\n",
    "while l <= r:\n",
    "    step += 1\n",
    "    mid = l + (r - l)//2\n",
    "    print(\"%d steps\" % step)\n",
    "    if target == arry[mid]:\n",
    "        print(\"Found %d\" % arry[mid])\n",
    "        break\n",
    "    elif arry[mid] < target:\n",
    "        l = mid + 1\n",
    "    else:\n",
    "        r = mid - 1"
   ]
  },
  {
   "cell_type": "code",
   "execution_count": null,
   "metadata": {},
   "outputs": [],
   "source": [
    "def simple(arry, target):\n",
    "    print(\"Simple Search\")\n",
    "    for i in arry:\n",
    "        if i == target:\n",
    "            print(\"Found %d in %d steps\" % (target, i))\n",
    "            return\n",
    "    print(\"Not found\")\n",
    "    return\n",
    "\n",
    "def binary(arry, target):\n",
    "    print(\"Binary Search\")\n",
    "    l = 0  # left pointer\n",
    "    r = len(arry) - 1  # right pointer\n",
    "    step = 0\n",
    "    while l <= r:\n",
    "        step += 1\n",
    "        mid = l + (r - l)//2\n",
    "        if target == arry[mid]:\n",
    "            print(\"Found %d in %d steps\" % (arry[mid], step))\n",
    "            return\n",
    "        elif arry[mid] < target:\n",
    "            l = mid + 1\n",
    "        else:\n",
    "            r = mid - 1\n",
    "    print(\"Not found\")\n",
    "    return\n",
    "\n",
    "def run_code(fnc, *args):\n",
    "    from datetime import datetime\n",
    "    st = datetime.now()\n",
    "    fnc(*args)\n",
    "    print(datetime.now() - st)\n",
    "\n",
    "arry = [i for i in range(10000000)]\n",
    "t = 9160218\n",
    "\n",
    "run_code(simple, arry, t)\n",
    "run_code(binary, arry, t)\n"
   ]
  },
  {
   "cell_type": "code",
   "execution_count": null,
   "metadata": {},
   "outputs": [],
   "source": []
  },
  {
   "cell_type": "code",
   "execution_count": null,
   "metadata": {},
   "outputs": [],
   "source": []
  }
 ],
 "metadata": {
  "kernelspec": {
   "display_name": "Python 3",
   "language": "python",
   "name": "python3"
  },
  "language_info": {
   "codemirror_mode": {
    "name": "ipython",
    "version": 3
   },
   "file_extension": ".py",
   "mimetype": "text/x-python",
   "name": "python",
   "nbconvert_exporter": "python",
   "pygments_lexer": "ipython3",
   "version": "3.7.6"
  }
 },
 "nbformat": 4,
 "nbformat_minor": 4
}
