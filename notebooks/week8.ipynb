{
 "cells": [
  {
   "cell_type": "code",
   "execution_count": 1,
   "metadata": {},
   "outputs": [
    {
     "name": "stdout",
     "output_type": "stream",
     "text": [
      "{'ktwo', 'kfive', 'kone', 'kthree'}\n"
     ]
    }
   ],
   "source": [
    "def radio_stations():\n",
    "    states_needed = {'mt', 'wa', 'or', 'id', 'nv', 'ut', 'ca', 'az'}\n",
    "    stations = {\n",
    "        'kone': {'id', 'nv', 'ut'},\n",
    "        'ktwo': {'wa', 'id', 'mt'},\n",
    "        'kthree': {'or', 'nv', 'ca'},\n",
    "        'kfour': {'nv', 'ut'},\n",
    "        'kfive': {'ca', 'az'}\n",
    "    }\n",
    "    final_stations = set()\n",
    "\n",
    "    while states_needed:\n",
    "        best_station = None\n",
    "        state_covered = set()\n",
    "        for station, states in stations.items():\n",
    "            covered = states_needed & states\n",
    "            if len(covered) > len(state_covered):\n",
    "                best_station = station\n",
    "                state_covered = covered\n",
    "        states_needed -= state_covered\n",
    "        final_stations.add(best_station)\n",
    "        del stations[best_station]\n",
    "\n",
    "    print(final_stations)\n",
    "\n",
    "\n",
    "if __name__ == '__main__':\n",
    "    radio_stations()\n"
   ]
  },
  {
   "cell_type": "code",
   "execution_count": null,
   "metadata": {},
   "outputs": [],
   "source": []
  }
 ],
 "metadata": {
  "kernelspec": {
   "display_name": "Python 3",
   "language": "python",
   "name": "python3"
  },
  "language_info": {
   "codemirror_mode": {
    "name": "ipython",
    "version": 3
   },
   "file_extension": ".py",
   "mimetype": "text/x-python",
   "name": "python",
   "nbconvert_exporter": "python",
   "pygments_lexer": "ipython3",
   "version": "3.8.0"
  }
 },
 "nbformat": 4,
 "nbformat_minor": 4
}
