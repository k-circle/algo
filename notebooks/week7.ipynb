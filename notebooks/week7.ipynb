{
 "cells": [
  {
   "cell_type": "code",
   "execution_count": 1,
   "metadata": {},
   "outputs": [
    {
     "name": "stdout",
     "output_type": "stream",
     "text": [
      "Path: book -> lp -> drum -> piano\n",
      "Costs: {'book': 0, 'lp': 5, 'poster': 0, 'bass': 20, 'drum': 25, 'piano': 35}\n"
     ]
    }
   ],
   "source": [
    "def djikstra():\n",
    "    graph = {\n",
    "        'book': {\n",
    "            'lp': 5,\n",
    "            'poster': 0,\n",
    "        },\n",
    "        'lp': {\n",
    "            'bass': 15,\n",
    "            'drum': 20,\n",
    "        },\n",
    "        'poster': {\n",
    "            'bass': 20,\n",
    "            'drum': 35,\n",
    "        },\n",
    "        'bass': {\n",
    "            'piano': 20,\n",
    "        },\n",
    "        'drum': {\n",
    "            'piano': 10\n",
    "        },\n",
    "        'piano': {},\n",
    "    }\n",
    "    costs = {\n",
    "        'book': 0,\n",
    "        'lp': float('inf'),\n",
    "        'poster': float('inf'),\n",
    "        'bass': float('inf'),\n",
    "        'drum': float('inf'),\n",
    "        'piano': float('inf'),\n",
    "    }\n",
    "    visited = set()\n",
    "    path = {\n",
    "        'book': None,\n",
    "    }\n",
    "    while len(path) > len(visited):\n",
    "        node = min({k: v for k, v in costs.items() if k not in visited}, key=costs.get)  # min cost in not visited nodes\n",
    "        visited.add(node)\n",
    "        for k, v in graph[node].items():\n",
    "            if costs[k] > costs[node] + graph[node][k]:\n",
    "                costs[k] = costs[node] + graph[node][k]\n",
    "                path[k] = node\n",
    "    end = 'piano'\n",
    "    shortest_path = [end]\n",
    "    while path[end]:  # calculate shortest path\n",
    "        shortest_path.insert(0, path[end])\n",
    "        end = path[end]\n",
    "    print('Path:', ' -> '.join(shortest_path))\n",
    "    print('Costs:', costs)\n",
    "    \n",
    "    \n",
    "if __name__ == '__main__':\n",
    "    djikstra()"
   ]
  },
  {
   "cell_type": "code",
   "execution_count": 2,
   "metadata": {},
   "outputs": [
    {
     "name": "stdout",
     "output_type": "stream",
     "text": [
      "Path: book -> lp -> drum -> piano\n",
      "Costs: {'book': 0, 'lp': 5, 'poster': 0, 'bass': 20, 'drum': 25, 'piano': 35}\n"
     ]
    }
   ],
   "source": [
    "import heapq\n",
    "\n",
    "\n",
    "def djikstra_with_heap():\n",
    "    graph = {\n",
    "        'book': {\n",
    "            'lp': 5,\n",
    "            'poster': 0,\n",
    "        },\n",
    "        'lp': {\n",
    "            'bass': 15,\n",
    "            'drum': 20,\n",
    "        },\n",
    "        'poster': {\n",
    "            'bass': 20,\n",
    "            'drum': 35,\n",
    "        },\n",
    "        'bass': {\n",
    "            'piano': 20,\n",
    "        },\n",
    "        'drum': {\n",
    "            'piano': 10\n",
    "        },\n",
    "        'piano': {},\n",
    "    }\n",
    "    costs = {\n",
    "        'book': 0,\n",
    "        'lp': float('inf'),\n",
    "        'poster': float('inf'),\n",
    "        'bass': float('inf'),\n",
    "        'drum': float('inf'),\n",
    "        'piano': float('inf'),\n",
    "    }\n",
    "    q = [(k, v) for k, v in costs.items()]\n",
    "    heapq.heapify(q)\n",
    "    path = {\n",
    "        'book': None,\n",
    "    }\n",
    "    while q:\n",
    "        node = heapq.heappop(q)\n",
    "        for k, v in graph[node[0]].items():\n",
    "            if costs[k] > costs[node[0]] + graph[node[0]][k]:\n",
    "                costs[k] = costs[node[0]] + graph[node[0]][k]\n",
    "                heapq.heappush(q, (k, v))\n",
    "                path[k] = node[0]\n",
    "    end = 'piano'\n",
    "    shortest_path = [end]\n",
    "    while path[end]:  # calculate shortest path\n",
    "        shortest_path.insert(0, path[end])\n",
    "        end = path[end]\n",
    "    print('Path:', ' -> '.join(shortest_path))\n",
    "    print('Costs:', costs)\n",
    "\n",
    "\n",
    "if __name__ == '__main__':\n",
    "    djikstra_with_heap()\n"
   ]
  },
  {
   "cell_type": "code",
   "execution_count": null,
   "metadata": {},
   "outputs": [],
   "source": []
  }
 ],
 "metadata": {
  "kernelspec": {
   "display_name": "Python 3",
   "language": "python",
   "name": "python3"
  },
  "language_info": {
   "codemirror_mode": {
    "name": "ipython",
    "version": 3
   },
   "file_extension": ".py",
   "mimetype": "text/x-python",
   "name": "python",
   "nbconvert_exporter": "python",
   "pygments_lexer": "ipython3",
   "version": "3.8.0"
  }
 },
 "nbformat": 4,
 "nbformat_minor": 4
}
