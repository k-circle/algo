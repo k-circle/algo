{
 "cells": [
  {
   "cell_type": "code",
   "execution_count": 1,
   "metadata": {},
   "outputs": [
    {
     "name": "stdout",
     "output_type": "stream",
     "text": [
      "[1, 9, 2, 6, 19, 8, 4]\n",
      "[1, 2, 9, 6, 19, 8, 4]\n",
      "[1, 2, 4, 6, 19, 8, 9]\n",
      "[1, 2, 4, 6, 8, 19, 9]\n",
      "[1, 2, 4, 6, 8, 9, 19]\n"
     ]
    }
   ],
   "source": [
    "# Selection Sort\n",
    "def selection_sort(arr):\n",
    "    print(arr)\n",
    "    # Traverse through all array elements \n",
    "    for i in range(len(arr)):\n",
    "        # Find the minimum element in remaining unsorted array\n",
    "        m_idx = i\n",
    "        for j in range(i+1, len(arr)):\n",
    "            if arr[j] < arr[m_idx]:\n",
    "                m_idx = j\n",
    "        # Swap the found minimum element with the first element \n",
    "        if arr[i] > arr[m_idx]:\n",
    "            arr[i], arr[m_idx] = arr[m_idx], arr[i]\n",
    "            print(arr)\n",
    "\n",
    "unsorted_array = [1, 9, 2, 6, 19, 8, 4]\n",
    "selection_sort(unsorted_array)"
   ]
  },
  {
   "cell_type": "code",
   "execution_count": 2,
   "metadata": {},
   "outputs": [
    {
     "name": "stdout",
     "output_type": "stream",
     "text": [
      "[1, 9, 2, 6, 19, 8, 4]\n",
      "[1, 2, 9, 6, 19, 8, 4]\n",
      "[1, 2, 6, 9, 19, 8, 4]\n",
      "[1, 2, 6, 9, 8, 19, 4]\n",
      "[1, 2, 6, 8, 9, 19, 4]\n",
      "[1, 2, 6, 8, 9, 4, 19]\n",
      "[1, 2, 6, 8, 4, 9, 19]\n",
      "[1, 2, 6, 4, 8, 9, 19]\n",
      "[1, 2, 4, 6, 8, 9, 19]\n"
     ]
    }
   ],
   "source": [
    "# Insertion Sort\n",
    "def insertion_sort(arr):\n",
    "    print(arr)\n",
    "    # Traverse through 1 to len(arr)\n",
    "    for i in range(1, len(arr)):\n",
    "        key = arr[i]\n",
    "        j = i - 1\n",
    "        # Move elements of arr[0..i-1], that are greater than key, to one position ahead of their current position \n",
    "        while j >= 0 and arr[j] > key:\n",
    "            arr[j+1], arr[j] = arr[j], arr[j+1]\n",
    "            j -= 1\n",
    "            print(arr)\n",
    "            \n",
    "unsorted_array = [1, 9, 2, 6, 19, 8, 4]\n",
    "insertion_sort(unsorted_array)"
   ]
  },
  {
   "cell_type": "code",
   "execution_count": 3,
   "metadata": {},
   "outputs": [
    {
     "name": "stdout",
     "output_type": "stream",
     "text": [
      "[1, 9, 2, 6, 19, 8, 4]\n",
      "[1, 9, 2, 6, 19, 8, 4]\n",
      "[1, 2, 9, 6, 19, 8, 4]\n",
      "[1, 2, 6, 9, 19, 8, 4]\n",
      "[1, 2, 6, 9, 19, 8, 4]\n",
      "[1, 2, 6, 9, 8, 19, 4]\n",
      "[1, 2, 6, 9, 8, 4, 19]\n",
      "[1, 2, 6, 9, 8, 4, 19]\n",
      "[1, 2, 6, 9, 8, 4, 19]\n",
      "[1, 2, 6, 9, 8, 4, 19]\n",
      "[1, 2, 6, 8, 9, 4, 19]\n",
      "[1, 2, 6, 8, 4, 9, 19]\n",
      "[1, 2, 6, 8, 4, 9, 19]\n",
      "[1, 2, 6, 8, 4, 9, 19]\n",
      "[1, 2, 6, 8, 4, 9, 19]\n",
      "[1, 2, 6, 4, 8, 9, 19]\n",
      "[1, 2, 6, 4, 8, 9, 19]\n",
      "[1, 2, 6, 4, 8, 9, 19]\n",
      "[1, 2, 4, 6, 8, 9, 19]\n",
      "[1, 2, 4, 6, 8, 9, 19]\n",
      "[1, 2, 4, 6, 8, 9, 19]\n",
      "[1, 2, 4, 6, 8, 9, 19]\n"
     ]
    }
   ],
   "source": [
    "def bubble_sort(arr):\n",
    "    print(arr)\n",
    "    # Traverse through all array elements\n",
    "    for i in range(len(arr)):\n",
    "        for j in range(len(arr)-i-1):\n",
    "            # traverse the array from 0 to n-i-1 Swap if the element found is greater than the next element\n",
    "            if arr[j+1] < arr[j]:\n",
    "                arr[j], arr[j+1] = arr[j+1], arr[j]\n",
    "            print(arr)\n",
    "unsorted_array = [1, 9, 2, 6, 19, 8, 4]\n",
    "bubble_sort(unsorted_array)"
   ]
  },
  {
   "cell_type": "code",
   "execution_count": null,
   "metadata": {},
   "outputs": [],
   "source": []
  }
 ],
 "metadata": {
  "kernelspec": {
   "display_name": "Python 3",
   "language": "python",
   "name": "python3"
  },
  "language_info": {
   "codemirror_mode": {
    "name": "ipython",
    "version": 3
   },
   "file_extension": ".py",
   "mimetype": "text/x-python",
   "name": "python",
   "nbconvert_exporter": "python",
   "pygments_lexer": "ipython3",
   "version": "3.7.6"
  }
 },
 "nbformat": 4,
 "nbformat_minor": 4
}
