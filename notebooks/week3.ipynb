{
 "cells": [
  {
   "cell_type": "code",
   "execution_count": 1,
   "metadata": {},
   "outputs": [
    {
     "name": "stdout",
     "output_type": "stream",
     "text": [
      "PUSH: a\n",
      "PUSH: b\n",
      "PUSH: c\n",
      "stack overflow\n",
      "TOP: c\n",
      "POP: c\n",
      "POP: b\n",
      "POP: a\n",
      "stack underflow\n",
      "Size: 0\n",
      "PUSH: A\n",
      "Size: 1\n",
      "Clear Stack\n",
      "Size: 0\n"
     ]
    }
   ],
   "source": [
    "# stack\n",
    "class Stack:\n",
    "    def __init__(self, size):\n",
    "        self._size = size\n",
    "        self._stack = []\n",
    "\n",
    "    def push(self, item):\n",
    "        if len(self._stack) >= self._size:\n",
    "            print('stack overflow')\n",
    "            return\n",
    "        print(\"PUSH:\", item)\n",
    "        self._stack.append(item)\n",
    "\n",
    "    def pop(self):\n",
    "        if len(self._stack) <= 0:\n",
    "            print('stack underflow')\n",
    "            return\n",
    "        print(\"POP:\", self._stack.pop())\n",
    "\n",
    "    def top(self):\n",
    "        if not self._stack:\n",
    "            return None\n",
    "        print(\"TOP:\", self._stack[-1])\n",
    "\n",
    "    def empty(self):\n",
    "        print(\"Clear Stack\")\n",
    "        self._stack.clear()\n",
    "\n",
    "    def size(self):\n",
    "        print(\"Size:\", len(self._stack))\n",
    "\n",
    "        \n",
    "s = Stack(3)\n",
    "s.push(\"a\")\n",
    "s.push(\"b\")\n",
    "s.push(\"c\")\n",
    "s.push(\"d\")  # overflow\n",
    "s.top()  # c\n",
    "s.pop()  # c\n",
    "s.pop()  # b\n",
    "s.pop()  # a\n",
    "s.pop()  # underflow\n",
    "s.size()  # 0\n",
    "s.push(\"A\")\n",
    "s.size()  # 1\n",
    "s.empty()\n",
    "s.size()  # 0"
   ]
  },
  {
   "cell_type": "code",
   "execution_count": 2,
   "metadata": {},
   "outputs": [
    {
     "name": "stdout",
     "output_type": "stream",
     "text": [
      "34\n"
     ]
    }
   ],
   "source": [
    "def fibonacci(n):\n",
    "    # Fn = Fn - 1 + Fn - 2\n",
    "    if n < 0:\n",
    "        print(\"Incorrect input\") \n",
    "    # fibonacci(1) number is 0\n",
    "    elif n == 1:\n",
    "        return 0\n",
    "    # fibonacci(2) number is 1\n",
    "    elif n == 2:\n",
    "        return 1\n",
    "    else: \n",
    "        return fibonacci(n-1)+fibonacci(n-2)\n",
    "    \n",
    "print(fibonacci(10))"
   ]
  },
  {
   "cell_type": "code",
   "execution_count": 3,
   "metadata": {},
   "outputs": [
    {
     "name": "stdout",
     "output_type": "stream",
     "text": [
      "24\n"
     ]
    }
   ],
   "source": [
    "def fact(x):\n",
    "    if x == 1:\n",
    "        return 1\n",
    "    else:\n",
    "        return x * fact(x-1)\n",
    "\n",
    "print(fact(4))"
   ]
  },
  {
   "cell_type": "code",
   "execution_count": null,
   "metadata": {},
   "outputs": [],
   "source": []
  }
 ],
 "metadata": {
  "kernelspec": {
   "display_name": "Python 3",
   "language": "python",
   "name": "python3"
  },
  "language_info": {
   "codemirror_mode": {
    "name": "ipython",
    "version": 3
   },
   "file_extension": ".py",
   "mimetype": "text/x-python",
   "name": "python",
   "nbconvert_exporter": "python",
   "pygments_lexer": "ipython3",
   "version": "3.8.0"
  }
 },
 "nbformat": 4,
 "nbformat_minor": 4
}
