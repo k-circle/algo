{
 "cells": [
  {
   "cell_type": "code",
   "execution_count": 1,
   "metadata": {},
   "outputs": [
    {
     "name": "stdout",
     "output_type": "stream",
     "text": [
      "5702887\n",
      "0:00:02.809099\n"
     ]
    }
   ],
   "source": [
    "import datetime\n",
    "\n",
    "def recursion_fibonacci(n):\n",
    "    if n < 0:\n",
    "        print(\"Incorrect input\")\n",
    "    elif n == 1:\n",
    "        return 0\n",
    "    elif n == 2:\n",
    "        return 1\n",
    "    else:\n",
    "        return recursion_fibonacci(n-1) + recursion_fibonacci(n-2)\n",
    "\n",
    "st = datetime.datetime.now()\n",
    "print(recursion_fibonacci(35))\n",
    "print(datetime.datetime.now() - st)"
   ]
  },
  {
   "cell_type": "code",
   "execution_count": 2,
   "metadata": {},
   "outputs": [
    {
     "name": "stdout",
     "output_type": "stream",
     "text": [
      "5702887\n",
      "0:00:00.000438\n"
     ]
    }
   ],
   "source": [
    "import datetime\n",
    "\n",
    "memo = {\n",
    "    0: 0,\n",
    "    1: 0,\n",
    "    2: 1,\n",
    "}\n",
    "\n",
    "def dp_fibonacci(n):\n",
    "    if n in memo:\n",
    "        return memo[n]\n",
    "    memo[n-1] = dp_fibonacci(n-1)\n",
    "    memo[n-2] = dp_fibonacci(n-2)\n",
    "    memo[n] = dp_fibonacci(n-1) + dp_fibonacci(n-2)\n",
    "    return memo[n]\n",
    "\n",
    "\n",
    "st = datetime.datetime.now()\n",
    "print(dp_fibonacci(35))\n",
    "print(datetime.datetime.now() - st)"
   ]
  },
  {
   "cell_type": "code",
   "execution_count": null,
   "metadata": {},
   "outputs": [],
   "source": []
  }
 ],
 "metadata": {
  "kernelspec": {
   "display_name": "Python 3",
   "language": "python",
   "name": "python3"
  },
  "language_info": {
   "codemirror_mode": {
    "name": "ipython",
    "version": 3
   },
   "file_extension": ".py",
   "mimetype": "text/x-python",
   "name": "python",
   "nbconvert_exporter": "python",
   "pygments_lexer": "ipython3",
   "version": "3.8.0"
  }
 },
 "nbformat": 4,
 "nbformat_minor": 4
}
